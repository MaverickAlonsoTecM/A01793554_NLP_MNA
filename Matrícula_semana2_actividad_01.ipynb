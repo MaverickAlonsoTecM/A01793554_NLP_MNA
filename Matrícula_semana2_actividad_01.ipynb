{
  "nbformat": 4,
  "nbformat_minor": 0,
  "metadata": {
    "colab": {
      "provenance": []
    },
    "kernelspec": {
      "name": "python3",
      "display_name": "Python 3"
    },
    "language_info": {
      "name": "python"
    }
  },
  "cells": [
    {
      "cell_type": "code",
      "execution_count": null,
      "metadata": {
        "id": "0b-wmXFGdQog"
      },
      "outputs": [],
      "source": [
        "import numpy as np\n",
        "import pandas as pd\n",
        "\n",
        "import re             # importamos \"re\" para el manejo de las expresiones regulares.\n"
      ]
    },
    {
      "cell_type": "code",
      "source": [
        "pddata = pd.read_csv(\"IMDB_Dataset_Spanish.csv\",\n",
        "                   header='infer',\n",
        "                   engine='python'\n",
        "                   )\n",
        "\n",
        "pddata  # DataFrame"
      ],
      "metadata": {
        "id": "oTz0xKwHocQV",
        "colab": {
          "base_uri": "https://localhost:8080/",
          "height": 423
        },
        "outputId": "82e6b11d-c5e0-4c3c-ae83-f354562aea97"
      },
      "execution_count": null,
      "outputs": [
        {
          "output_type": "execute_result",
          "data": {
            "text/plain": [
              "                                            comentarios\n",
              "0     Uno de los otros críticos ha mencionado que de...\n",
              "1     Una pequeña pequeña producción.La técnica de f...\n",
              "2     Pensé que esta era una manera maravillosa de p...\n",
              "3     Básicamente, hay una familia donde un niño peq...\n",
              "4     El \"amor en el tiempo\" de Petter Mattei es una...\n",
              "...                                                 ...\n",
              "1695  Nunca había oído hablar de esta película, pero...\n",
              "1696  Teamo Supremo son tres hijos, que consiste en ...\n",
              "1697  No puedo creer lo popular que es este espectác...\n",
              "1698  Después de 10 visitas en 20 años, yo también c...\n",
              "1699  Si me gustas, disfrutaste de la primera pelícu...\n",
              "\n",
              "[1700 rows x 1 columns]"
            ],
            "text/html": [
              "\n",
              "  <div id=\"df-842cd6aa-c1f5-4b41-a730-0d064e3b4a8d\" class=\"colab-df-container\">\n",
              "    <div>\n",
              "<style scoped>\n",
              "    .dataframe tbody tr th:only-of-type {\n",
              "        vertical-align: middle;\n",
              "    }\n",
              "\n",
              "    .dataframe tbody tr th {\n",
              "        vertical-align: top;\n",
              "    }\n",
              "\n",
              "    .dataframe thead th {\n",
              "        text-align: right;\n",
              "    }\n",
              "</style>\n",
              "<table border=\"1\" class=\"dataframe\">\n",
              "  <thead>\n",
              "    <tr style=\"text-align: right;\">\n",
              "      <th></th>\n",
              "      <th>comentarios</th>\n",
              "    </tr>\n",
              "  </thead>\n",
              "  <tbody>\n",
              "    <tr>\n",
              "      <th>0</th>\n",
              "      <td>Uno de los otros críticos ha mencionado que de...</td>\n",
              "    </tr>\n",
              "    <tr>\n",
              "      <th>1</th>\n",
              "      <td>Una pequeña pequeña producción.La técnica de f...</td>\n",
              "    </tr>\n",
              "    <tr>\n",
              "      <th>2</th>\n",
              "      <td>Pensé que esta era una manera maravillosa de p...</td>\n",
              "    </tr>\n",
              "    <tr>\n",
              "      <th>3</th>\n",
              "      <td>Básicamente, hay una familia donde un niño peq...</td>\n",
              "    </tr>\n",
              "    <tr>\n",
              "      <th>4</th>\n",
              "      <td>El \"amor en el tiempo\" de Petter Mattei es una...</td>\n",
              "    </tr>\n",
              "    <tr>\n",
              "      <th>...</th>\n",
              "      <td>...</td>\n",
              "    </tr>\n",
              "    <tr>\n",
              "      <th>1695</th>\n",
              "      <td>Nunca había oído hablar de esta película, pero...</td>\n",
              "    </tr>\n",
              "    <tr>\n",
              "      <th>1696</th>\n",
              "      <td>Teamo Supremo son tres hijos, que consiste en ...</td>\n",
              "    </tr>\n",
              "    <tr>\n",
              "      <th>1697</th>\n",
              "      <td>No puedo creer lo popular que es este espectác...</td>\n",
              "    </tr>\n",
              "    <tr>\n",
              "      <th>1698</th>\n",
              "      <td>Después de 10 visitas en 20 años, yo también c...</td>\n",
              "    </tr>\n",
              "    <tr>\n",
              "      <th>1699</th>\n",
              "      <td>Si me gustas, disfrutaste de la primera pelícu...</td>\n",
              "    </tr>\n",
              "  </tbody>\n",
              "</table>\n",
              "<p>1700 rows × 1 columns</p>\n",
              "</div>\n",
              "    <div class=\"colab-df-buttons\">\n",
              "\n",
              "  <div class=\"colab-df-container\">\n",
              "    <button class=\"colab-df-convert\" onclick=\"convertToInteractive('df-842cd6aa-c1f5-4b41-a730-0d064e3b4a8d')\"\n",
              "            title=\"Convert this dataframe to an interactive table.\"\n",
              "            style=\"display:none;\">\n",
              "\n",
              "  <svg xmlns=\"http://www.w3.org/2000/svg\" height=\"24px\" viewBox=\"0 -960 960 960\">\n",
              "    <path d=\"M120-120v-720h720v720H120Zm60-500h600v-160H180v160Zm220 220h160v-160H400v160Zm0 220h160v-160H400v160ZM180-400h160v-160H180v160Zm440 0h160v-160H620v160ZM180-180h160v-160H180v160Zm440 0h160v-160H620v160Z\"/>\n",
              "  </svg>\n",
              "    </button>\n",
              "\n",
              "  <style>\n",
              "    .colab-df-container {\n",
              "      display:flex;\n",
              "      gap: 12px;\n",
              "    }\n",
              "\n",
              "    .colab-df-convert {\n",
              "      background-color: #E8F0FE;\n",
              "      border: none;\n",
              "      border-radius: 50%;\n",
              "      cursor: pointer;\n",
              "      display: none;\n",
              "      fill: #1967D2;\n",
              "      height: 32px;\n",
              "      padding: 0 0 0 0;\n",
              "      width: 32px;\n",
              "    }\n",
              "\n",
              "    .colab-df-convert:hover {\n",
              "      background-color: #E2EBFA;\n",
              "      box-shadow: 0px 1px 2px rgba(60, 64, 67, 0.3), 0px 1px 3px 1px rgba(60, 64, 67, 0.15);\n",
              "      fill: #174EA6;\n",
              "    }\n",
              "\n",
              "    .colab-df-buttons div {\n",
              "      margin-bottom: 4px;\n",
              "    }\n",
              "\n",
              "    [theme=dark] .colab-df-convert {\n",
              "      background-color: #3B4455;\n",
              "      fill: #D2E3FC;\n",
              "    }\n",
              "\n",
              "    [theme=dark] .colab-df-convert:hover {\n",
              "      background-color: #434B5C;\n",
              "      box-shadow: 0px 1px 3px 1px rgba(0, 0, 0, 0.15);\n",
              "      filter: drop-shadow(0px 1px 2px rgba(0, 0, 0, 0.3));\n",
              "      fill: #FFFFFF;\n",
              "    }\n",
              "  </style>\n",
              "\n",
              "    <script>\n",
              "      const buttonEl =\n",
              "        document.querySelector('#df-842cd6aa-c1f5-4b41-a730-0d064e3b4a8d button.colab-df-convert');\n",
              "      buttonEl.style.display =\n",
              "        google.colab.kernel.accessAllowed ? 'block' : 'none';\n",
              "\n",
              "      async function convertToInteractive(key) {\n",
              "        const element = document.querySelector('#df-842cd6aa-c1f5-4b41-a730-0d064e3b4a8d');\n",
              "        const dataTable =\n",
              "          await google.colab.kernel.invokeFunction('convertToInteractive',\n",
              "                                                    [key], {});\n",
              "        if (!dataTable) return;\n",
              "\n",
              "        const docLinkHtml = 'Like what you see? Visit the ' +\n",
              "          '<a target=\"_blank\" href=https://colab.research.google.com/notebooks/data_table.ipynb>data table notebook</a>'\n",
              "          + ' to learn more about interactive tables.';\n",
              "        element.innerHTML = '';\n",
              "        dataTable['output_type'] = 'display_data';\n",
              "        await google.colab.output.renderOutput(dataTable, element);\n",
              "        const docLink = document.createElement('div');\n",
              "        docLink.innerHTML = docLinkHtml;\n",
              "        element.appendChild(docLink);\n",
              "      }\n",
              "    </script>\n",
              "  </div>\n",
              "\n",
              "\n",
              "<div id=\"df-2e60a67f-9d28-4e9e-858a-977b4d145db3\">\n",
              "  <button class=\"colab-df-quickchart\" onclick=\"quickchart('df-2e60a67f-9d28-4e9e-858a-977b4d145db3')\"\n",
              "            title=\"Suggest charts\"\n",
              "            style=\"display:none;\">\n",
              "\n",
              "<svg xmlns=\"http://www.w3.org/2000/svg\" height=\"24px\"viewBox=\"0 0 24 24\"\n",
              "     width=\"24px\">\n",
              "    <g>\n",
              "        <path d=\"M19 3H5c-1.1 0-2 .9-2 2v14c0 1.1.9 2 2 2h14c1.1 0 2-.9 2-2V5c0-1.1-.9-2-2-2zM9 17H7v-7h2v7zm4 0h-2V7h2v10zm4 0h-2v-4h2v4z\"/>\n",
              "    </g>\n",
              "</svg>\n",
              "  </button>\n",
              "\n",
              "<style>\n",
              "  .colab-df-quickchart {\n",
              "      --bg-color: #E8F0FE;\n",
              "      --fill-color: #1967D2;\n",
              "      --hover-bg-color: #E2EBFA;\n",
              "      --hover-fill-color: #174EA6;\n",
              "      --disabled-fill-color: #AAA;\n",
              "      --disabled-bg-color: #DDD;\n",
              "  }\n",
              "\n",
              "  [theme=dark] .colab-df-quickchart {\n",
              "      --bg-color: #3B4455;\n",
              "      --fill-color: #D2E3FC;\n",
              "      --hover-bg-color: #434B5C;\n",
              "      --hover-fill-color: #FFFFFF;\n",
              "      --disabled-bg-color: #3B4455;\n",
              "      --disabled-fill-color: #666;\n",
              "  }\n",
              "\n",
              "  .colab-df-quickchart {\n",
              "    background-color: var(--bg-color);\n",
              "    border: none;\n",
              "    border-radius: 50%;\n",
              "    cursor: pointer;\n",
              "    display: none;\n",
              "    fill: var(--fill-color);\n",
              "    height: 32px;\n",
              "    padding: 0;\n",
              "    width: 32px;\n",
              "  }\n",
              "\n",
              "  .colab-df-quickchart:hover {\n",
              "    background-color: var(--hover-bg-color);\n",
              "    box-shadow: 0 1px 2px rgba(60, 64, 67, 0.3), 0 1px 3px 1px rgba(60, 64, 67, 0.15);\n",
              "    fill: var(--button-hover-fill-color);\n",
              "  }\n",
              "\n",
              "  .colab-df-quickchart-complete:disabled,\n",
              "  .colab-df-quickchart-complete:disabled:hover {\n",
              "    background-color: var(--disabled-bg-color);\n",
              "    fill: var(--disabled-fill-color);\n",
              "    box-shadow: none;\n",
              "  }\n",
              "\n",
              "  .colab-df-spinner {\n",
              "    border: 2px solid var(--fill-color);\n",
              "    border-color: transparent;\n",
              "    border-bottom-color: var(--fill-color);\n",
              "    animation:\n",
              "      spin 1s steps(1) infinite;\n",
              "  }\n",
              "\n",
              "  @keyframes spin {\n",
              "    0% {\n",
              "      border-color: transparent;\n",
              "      border-bottom-color: var(--fill-color);\n",
              "      border-left-color: var(--fill-color);\n",
              "    }\n",
              "    20% {\n",
              "      border-color: transparent;\n",
              "      border-left-color: var(--fill-color);\n",
              "      border-top-color: var(--fill-color);\n",
              "    }\n",
              "    30% {\n",
              "      border-color: transparent;\n",
              "      border-left-color: var(--fill-color);\n",
              "      border-top-color: var(--fill-color);\n",
              "      border-right-color: var(--fill-color);\n",
              "    }\n",
              "    40% {\n",
              "      border-color: transparent;\n",
              "      border-right-color: var(--fill-color);\n",
              "      border-top-color: var(--fill-color);\n",
              "    }\n",
              "    60% {\n",
              "      border-color: transparent;\n",
              "      border-right-color: var(--fill-color);\n",
              "    }\n",
              "    80% {\n",
              "      border-color: transparent;\n",
              "      border-right-color: var(--fill-color);\n",
              "      border-bottom-color: var(--fill-color);\n",
              "    }\n",
              "    90% {\n",
              "      border-color: transparent;\n",
              "      border-bottom-color: var(--fill-color);\n",
              "    }\n",
              "  }\n",
              "</style>\n",
              "\n",
              "  <script>\n",
              "    async function quickchart(key) {\n",
              "      const quickchartButtonEl =\n",
              "        document.querySelector('#' + key + ' button');\n",
              "      quickchartButtonEl.disabled = true;  // To prevent multiple clicks.\n",
              "      quickchartButtonEl.classList.add('colab-df-spinner');\n",
              "      try {\n",
              "        const charts = await google.colab.kernel.invokeFunction(\n",
              "            'suggestCharts', [key], {});\n",
              "      } catch (error) {\n",
              "        console.error('Error during call to suggestCharts:', error);\n",
              "      }\n",
              "      quickchartButtonEl.classList.remove('colab-df-spinner');\n",
              "      quickchartButtonEl.classList.add('colab-df-quickchart-complete');\n",
              "    }\n",
              "    (() => {\n",
              "      let quickchartButtonEl =\n",
              "        document.querySelector('#df-2e60a67f-9d28-4e9e-858a-977b4d145db3 button');\n",
              "      quickchartButtonEl.style.display =\n",
              "        google.colab.kernel.accessAllowed ? 'block' : 'none';\n",
              "    })();\n",
              "  </script>\n",
              "</div>\n",
              "    </div>\n",
              "  </div>\n"
            ],
            "application/vnd.google.colaboratory.intrinsic+json": {
              "type": "dataframe",
              "variable_name": "pddata",
              "summary": "{\n  \"name\": \"pddata\",\n  \"rows\": 1700,\n  \"fields\": [\n    {\n      \"column\": \"comentarios\",\n      \"properties\": {\n        \"dtype\": \"string\",\n        \"num_unique_values\": 1700,\n        \"samples\": [\n          \"Alexandr \\\"Sascha\\\" Luzhin (John Turturro) es un antiguo jugador de ajedrez que intenta regresar a un torneo alojado en Italia. Su brillantez es incuestionable, pero su obsesi\\u00f3n con el ajedrez ha sufrido su crecimiento en todos los dem\\u00e1s aspectos de su vida. Natalia (Emily Watson) es una hermosa heredera que ha llegado al mismo recurso con su madre, Vera (Geraldine James) para alcanzar posibles socios matrimoniales. Vera se inclina hacia un guapo cuenta, pero, sorprendentemente, Natalia est\\u00e1 m\\u00e1s fascinada por Sascha, a quien se reuni\\u00f3 en un paseo. Sascha, tambi\\u00e9n, se toma con Natalia y propone el matrimonio en su segunda reuni\\u00f3n. Pero, con la concentraci\\u00f3n de que Sascha debe dar a los partidos de ajedrez y, con otros sucesos en su pasado, todav\\u00eda causando problemas, \\u00bfganar\\u00e1 el coraz\\u00f3n de Natalia? Ah, \\u00bfy puede convertirse en el campe\\u00f3n de ajedrez, tambi\\u00e9n? Esta es una pel\\u00edcula encantadora, basada en una novela de Nabokov. La actuaci\\u00f3n es incre\\u00edble, con Watson muy bien como la hermosa ni\\u00f1a rica y la perfecci\\u00f3n de Turturro como el entusiasta t\\u00edmida, inc\\u00f3moda de ajedrez. James da un buen giro, ya que la madre dominante y los otros miembros del reparto tambi\\u00e9n son maravillosos. En cuanto al aspecto de la pel\\u00edcula, no podr\\u00eda ser mejor. El paisaje es de la variedad de put-out-Out-Out, los trajes vintage son preciosos y la cinematograf\\u00eda merece mucho aplausos. S\\u00ed, la historia es inusual y contada con el uso de flashbacks, a veces, lo que la convierte en una pel\\u00edcula, no todos apreciar\\u00e1n. Entonces, tambi\\u00e9n, el final es agridulce. Sin embargo, si te gusta el romance, las piezas de \\u00e9poca, la gran actuaci\\u00f3n, el paisaje de Knockout o la bella creaci\\u00f3n de im\\u00e1genes de movimiento, no se pierden este. Estar\\u00e1s indefenso al resistir su multitud de encantos.\",\n          \"Esta es una de las mejores pel\\u00edculas que he visto en mi vida ... El escenario Stark ... El aislamiento ... Las personas ignorantes fan\\u00e1ticas escondidas detr\\u00e1s de su religi\\u00f3n ... un tel\\u00f3n de fondo para un poco de atenci\\u00f3n y sofisticaci\\u00f3n ... la actuaci\\u00f3n escompletamente natural ... pero para m\\u00ed como \\\"foodie\\\" lo mejor es la elecci\\u00f3n actual y la preparaci\\u00f3n de la fiesta ... he pasado tiempo en Par\\u00eds y conoce bien la cocina ... Ya sea que el Cafe Anglais realmente exista.'T SABO, PERO SABO DE ESTADOS SIMILARES Y EL MEN\\u00da DE BURABETT Y ELECCI\\u00d3N DE VINOS SON AUTENTICOS ... Y, por supuesto, el final, donde a pesar de ellos mismos, la comida perfecta, los mezcla de la amistad es el \\u00fanico final que podr\\u00eda haber ... esto es un10 de cada 10 pel\\u00edcula y debe ser visto por cualquier persona con suficiente cerebro y gusto para entenderlo\",\n          \"Esta pel\\u00edcula podr\\u00eda haber sido una re-realizaci\\u00f3n decente, y Gosh sabe que lo intent\\u00f3 (o la Sra. Ingl\\u00e9s lo intent\\u00f3). El montaje de actores talentosos, junto con un escritor / director exitoso y experimentado, debe ser una f\\u00f3rmula para una pel\\u00edcula decente. Pero la experiencia de la Sra. Inflish, seg\\u00fan su IMDb Bio, se limita exclusivamente al trabajo televisivo, y es muy obvio en toda esta pel\\u00edcula. Me sorprende que ninguna de las cr\\u00edticas que haya le\\u00eddo mencionar lo que m\\u00e1s fue poco probable en esta pel\\u00edcula, y Lo que le impidi\\u00f3 alcanzar incluso una parte de su potencial: se ve\\u00eda y se sent\\u00eda como si estuviera hecha para la televisi\\u00f3n. Para dar un poco de cr\\u00e9dito a la Sra. Ingl\\u00e9s, muchos de los chistes que simplemente no trabajaron en una pantalla de cine hubieran sido excelentes en la televisi\\u00f3n (y tal vez una pista de risa habr\\u00eda ayudado). Mucho del uso de la c\\u00e1mara y la iluminaci\\u00f3n habr\\u00edan jugado bien en la televisi\\u00f3n, pero se ve\\u00eda inc\\u00f3modo o extra\\u00f1o en una pantalla grande. Si toda la pel\\u00edcula hab\\u00eda sido cortada en una mini serie o en una situaci\\u00f3n, creo que podr\\u00eda haber funcionado. Pero esto es el cine y, lamentablemente, los talentos de la Sra. English no se tradujeron. \\u00a1Me encog\\u00ed en tantos puntos diferentes en mi verg\\u00fcenza para los actores y los escritores que sent\\u00ed que sal\\u00ed del teatro medio arrugado! Meg Ryan es su habitual alegre, lindo mismo (a excepci\\u00f3n de la terrible cirug\\u00eda pl\\u00e1stica que ha tenido en su rostro), pero \\u00bfa d\\u00f3nde tuvo la oportunidad de usar su talento? Ella ha hecho pel\\u00edculas donde no recrea su papel de escritura est\\u00e9reo y les hizo bien ... pero no aqu\\u00ed. Annette Bening pareci\\u00f3 simplemente pasar por los movimientos, \\u00a1un gran talento y, sin embargo, un rendimiento tan pobre! Disfrut\\u00e9 de los otros personajes de las mujeres, pero eran m\\u00e1s caricaturas que la sustancia, y estaba triste ver. Lo que funcion\\u00f3 en esta pel\\u00edcula en la d\\u00e9cada de 1930 no se traduce a la d\\u00e9cada de 2000, y nadie ayud\\u00f3 a la Sra. English obtener los cambios y actualizaciones o sutilezas a la derecha. Si solo ella (como escritora, directora y productora) hab\\u00eda tenido alguna ayuda, creo que podr\\u00eda haber sido bueno. Pero no lo fue. \\u00a1Es tan frustrante ir a una pel\\u00edcula que tiene buenas estrellas y un buen escritor o director, y venir sintiendo que fue un desperdicio de tiempo y dinero de todos! Esta caricatura de Nueva York que vi ayer es apropiada: algunos ejecutivos de pel\\u00edculas est\\u00e1n teniendo una reuni\\u00f3n y el t\\u00edtulo lee: \\\"\\u00a1Vamos a rehacer un cl\\u00e1sico con peor todo!\\\"\"\n        ],\n        \"semantic_type\": \"\",\n        \"description\": \"\"\n      }\n    }\n  ]\n}"
            }
          },
          "metadata": {},
          "execution_count": 2
        }
      ]
    },
    {
      "cell_type": "code",
      "source": [
        "pddata.iloc[1,0]"
      ],
      "metadata": {
        "id": "dhMVov3V7qaJ",
        "colab": {
          "base_uri": "https://localhost:8080/",
          "height": 191
        },
        "outputId": "20c7ea84-4b06-42ae-f59b-f837c491cba9"
      },
      "execution_count": null,
      "outputs": [
        {
          "output_type": "execute_result",
          "data": {
            "text/plain": [
              "'Una pequeña pequeña producción.La técnica de filmación es muy incuestionable, muy antigua, la moda de la BBC y le da una sensación de realismo reconfortante, y, a veces, incómodo, y, a veces, a la pieza.Los actores son extremadamente bien elegidos, Michael Sheen, no solo \"tiene todo el polari\", ¡pero tiene todas las voces por palmaditas!Realmente puede ver la edición perfecta guiada por las referencias a las entradas del diario de Williams, no solo vale la pena la observación, pero es una pieza imperrementemente escrita y realizada.Una producción magistral sobre uno de los grandes maestros de la comedia y su vida.El realismo realmente llega a casa con las pequeñas cosas: la fantasía del guardia que, en lugar de usar las técnicas de \"sueño\" tradicionales permanece sólido, entonces desaparece.Se desempeña nuestro conocimiento y nuestros sentidos, particularmente con las escenas relacionadas con Orton y Halliwell y los conjuntos (particularmente de su apartamento con murales de Halliwell que decoran cada superficie) están terriblemente bien hechos.'"
            ],
            "application/vnd.google.colaboratory.intrinsic+json": {
              "type": "string"
            }
          },
          "metadata": {},
          "execution_count": 3
        }
      ]
    },
    {
      "cell_type": "code",
      "source": [
        "pddata.shape"
      ],
      "metadata": {
        "colab": {
          "base_uri": "https://localhost:8080/"
        },
        "id": "8UDABucm8E4Y",
        "outputId": "578289e6-e3b7-41ee-d593-5fc1ca3ece2e"
      },
      "execution_count": null,
      "outputs": [
        {
          "output_type": "execute_result",
          "data": {
            "text/plain": [
              "(1700, 1)"
            ]
          },
          "metadata": {},
          "execution_count": 4
        }
      ]
    },
    {
      "cell_type": "code",
      "source": [
        "tt = pddata.iloc[11,0]   # 10, 11, 18\n",
        "tt     # string"
      ],
      "metadata": {
        "id": "FmIYWa_aOfVh",
        "colab": {
          "base_uri": "https://localhost:8080/",
          "height": 174
        },
        "outputId": "a6dabf4f-3f1f-4594-91ea-12715e180b38"
      },
      "execution_count": null,
      "outputs": [
        {
          "output_type": "execute_result",
          "data": {
            "text/plain": [
              "'Vi esta película cuando tenía alrededor de 12 cuando salí.Recuerdo que la escena más aterradora era el gran ave que comía a los hombres colgando impotentes de los paracaídas justo fuera del aire.El horror.El horror. Un niño joven yendo a estas películas de Cheesy B los sábados por la tarde, todavía estaba cansado de la fórmula para estas películas de tipo monstruo que usualmente incluían al héroe, una hermosa mujer que podría ser la hija de un profesor y una resolución feliz.Cuando el monstruo murió al final.No me importaba mucho por el ángulo romántico como un niño de 12 años y las parcelas predecibles.Los amo ahora para el humor involuntario. Pero, aproximadamente un año más o menos, vi psycho cuando salí y me encantó que la estrella, Janet Leigh, fue golpeada temprano en la película.Me senté y me di cuenta en ese momento.Dado que los guionistas están inventando la historia, asegúrese de ser lo más aterrador posible y no de una fórmula bien usada.No hay reglas.'"
            ],
            "application/vnd.google.colaboratory.intrinsic+json": {
              "type": "string"
            }
          },
          "metadata": {},
          "execution_count": 15
        }
      ]
    },
    {
      "cell_type": "code",
      "source": [
        "# Buscar los lugares donde no se incluyó un espacio en blanco después del\n",
        "# punto y seguido:\n",
        "# Buscar lugares sin espacio después del punto y seguido\n",
        "lugares_sin_espacio = re.findall('\\.(?!\\s)', tt)\n",
        "lugares_sin_espacio"
      ],
      "metadata": {
        "id": "r8IrpsVX-zjy",
        "colab": {
          "base_uri": "https://localhost:8080/"
        },
        "outputId": "65003a5b-ae2d-47b2-8944-fbb39eaa4345"
      },
      "execution_count": null,
      "outputs": [
        {
          "output_type": "execute_result",
          "data": {
            "text/plain": [
              "['.', '.', '.', '.', '.', '.', '.', '.', '.', '.']"
            ]
          },
          "metadata": {},
          "execution_count": 35
        }
      ]
    },
    {
      "cell_type": "code",
      "source": [
        "# Verifica que solo exista un espacio en blanco después de un punto y seguido.\n",
        "texto_corregido = re.sub('\\.(?!\\s)', '. ', tt)\n",
        "print(\"Texto corregido:\")\n",
        "texto_corregido"
      ],
      "metadata": {
        "colab": {
          "base_uri": "https://localhost:8080/",
          "height": 191
        },
        "id": "MlWJWck9PMMR",
        "outputId": "f4e8dc95-7b01-40d7-e3b2-f4097b87a1ab"
      },
      "execution_count": null,
      "outputs": [
        {
          "output_type": "stream",
          "name": "stdout",
          "text": [
            "Texto corregido:\n"
          ]
        },
        {
          "output_type": "execute_result",
          "data": {
            "text/plain": [
              "'Vi esta película cuando tenía alrededor de 12 cuando salí. Recuerdo que la escena más aterradora era el gran ave que comía a los hombres colgando impotentes de los paracaídas justo fuera del aire. El horror. El horror. Un niño joven yendo a estas películas de Cheesy B los sábados por la tarde, todavía estaba cansado de la fórmula para estas películas de tipo monstruo que usualmente incluían al héroe, una hermosa mujer que podría ser la hija de un profesor y una resolución feliz. Cuando el monstruo murió al final. No me importaba mucho por el ángulo romántico como un niño de 12 años y las parcelas predecibles. Los amo ahora para el humor involuntario. Pero, aproximadamente un año más o menos, vi psycho cuando salí y me encantó que la estrella, Janet Leigh, fue golpeada temprano en la película. Me senté y me di cuenta en ese momento. Dado que los guionistas están inventando la historia, asegúrese de ser lo más aterrador posible y no de una fórmula bien usada. No hay reglas. '"
            ],
            "application/vnd.google.colaboratory.intrinsic+json": {
              "type": "string"
            }
          },
          "metadata": {},
          "execution_count": 18
        }
      ]
    },
    {
      "cell_type": "code",
      "source": [
        "# Encuentra todas las vocales acentuadas o con diéresis:\n",
        "vocales_acentuadas = re.findall('[áéíóúüÁÉÍÓÚÜñÑ]', tt)\n",
        "vocales_acentuadas"
      ],
      "metadata": {
        "id": "j264k4r0_xaa",
        "colab": {
          "base_uri": "https://localhost:8080/"
        },
        "outputId": "0fbf8dbc-0119-413b-8e62-3b46ade3b7e0"
      },
      "execution_count": null,
      "outputs": [
        {
          "output_type": "execute_result",
          "data": {
            "text/plain": [
              "['í',\n",
              " 'í',\n",
              " 'í',\n",
              " 'á',\n",
              " 'í',\n",
              " 'í',\n",
              " 'ñ',\n",
              " 'í',\n",
              " 'á',\n",
              " 'í',\n",
              " 'ó',\n",
              " 'í',\n",
              " 'í',\n",
              " 'é',\n",
              " 'í',\n",
              " 'ó',\n",
              " 'ó',\n",
              " 'á',\n",
              " 'á',\n",
              " 'ñ',\n",
              " 'ñ',\n",
              " 'ñ',\n",
              " 'á',\n",
              " 'í',\n",
              " 'ó',\n",
              " 'í',\n",
              " 'é',\n",
              " 'á',\n",
              " 'ú',\n",
              " 'á',\n",
              " 'ó']"
            ]
          },
          "metadata": {},
          "execution_count": 23
        }
      ]
    },
    {
      "cell_type": "code",
      "source": [
        "# Encuentra todas las vocales acentuadas y con diéresis, con toda la palabra completa:\n",
        "palabra_acentuadas = re.findall('\\w*[áéíóúüÁÉÍÓÚÜñÑ]\\w*', tt)\n",
        "palabra_acentuadas"
      ],
      "metadata": {
        "id": "ouC1-G3oUn3a",
        "colab": {
          "base_uri": "https://localhost:8080/"
        },
        "outputId": "2118d93f-b601-4c3f-f865-2871d11eb915"
      },
      "execution_count": null,
      "outputs": [
        {
          "output_type": "execute_result",
          "data": {
            "text/plain": [
              "['película',\n",
              " 'tenía',\n",
              " 'salí',\n",
              " 'más',\n",
              " 'comía',\n",
              " 'paracaídas',\n",
              " 'niño',\n",
              " 'películas',\n",
              " 'sábados',\n",
              " 'todavía',\n",
              " 'fórmula',\n",
              " 'películas',\n",
              " 'incluían',\n",
              " 'héroe',\n",
              " 'podría',\n",
              " 'resolución',\n",
              " 'murió',\n",
              " 'ángulo',\n",
              " 'romántico',\n",
              " 'niño',\n",
              " 'años',\n",
              " 'año',\n",
              " 'más',\n",
              " 'salí',\n",
              " 'encantó',\n",
              " 'película',\n",
              " 'senté',\n",
              " 'están',\n",
              " 'asegúrese',\n",
              " 'más',\n",
              " 'fórmula']"
            ]
          },
          "metadata": {},
          "execution_count": 25
        }
      ]
    },
    {
      "cell_type": "code",
      "source": [
        "# DataFrame a Lista:\n",
        "\n",
        "# Podemos transformar los comentarios a una lista de Strings,\n",
        "# en lugar de un DataFrame:\n",
        "\n",
        "listdata = pddata['comentarios'].tolist()\n",
        "\n",
        "len(listdata)"
      ],
      "metadata": {
        "id": "FSHiA4gqEpMU",
        "colab": {
          "base_uri": "https://localhost:8080/"
        },
        "outputId": "384c4b32-3ad8-4caa-8d2f-208f1f09c2e3"
      },
      "execution_count": null,
      "outputs": [
        {
          "output_type": "execute_result",
          "data": {
            "text/plain": [
              "1700"
            ]
          },
          "metadata": {},
          "execution_count": 26
        }
      ]
    },
    {
      "cell_type": "code",
      "source": [
        "listdata[9]   # seleccionemos alguno de los comentarios"
      ],
      "metadata": {
        "id": "PGDLFuDBG7M0",
        "colab": {
          "base_uri": "https://localhost:8080/",
          "height": 52
        },
        "outputId": "1b1e1946-e6ab-40da-a581-97b6f8b8f81a"
      },
      "execution_count": null,
      "outputs": [
        {
          "output_type": "execute_result",
          "data": {
            "text/plain": [
              "'Si te gusta la risa original desgarradora, te gustará esta película.Si eres joven o viejo, te encantará esta película, el infierno, incluso a mi mamá le gustó. ¡¡¡Campamento de Great !!!'"
            ],
            "application/vnd.google.colaboratory.intrinsic+json": {
              "type": "string"
            }
          },
          "metadata": {},
          "execution_count": 27
        }
      ]
    },
    {
      "cell_type": "code",
      "source": [
        "listdata[9].split()   # por paralabra de manera predeterminada por espacio en blanco\n",
        "listdata[9].split(',')      #  separar por punto"
      ],
      "metadata": {
        "id": "usrklW92IV9w",
        "colab": {
          "base_uri": "https://localhost:8080/"
        },
        "outputId": "a9509e03-ac52-44d6-e7ac-f6bf13aadcbe"
      },
      "execution_count": null,
      "outputs": [
        {
          "output_type": "execute_result",
          "data": {
            "text/plain": [
              "['Si te gusta la risa original desgarradora',\n",
              " ' te gustará esta película.Si eres joven o viejo',\n",
              " ' te encantará esta película',\n",
              " ' el infierno',\n",
              " ' incluso a mi mamá le gustó. ¡¡¡Campamento de Great !!!']"
            ]
          },
          "metadata": {},
          "execution_count": 29
        }
      ]
    },
    {
      "cell_type": "markdown",
      "source": [
        "### **Trata de inferir qué hacen las siguientes instrucciones antes de ejecutarlas:**"
      ],
      "metadata": {
        "id": "ju0sM1ACgSKs"
      }
    },
    {
      "cell_type": "code",
      "source": [
        "Q=[]\n",
        "\n",
        "for doc in listdata:\n",
        "  tmp = re.findall(r'\\w+!{2,}', doc)      # <<<<<<<<<<<<<<<<<\n",
        "  if tmp:\n",
        "    Q = Q + tmp\n",
        "\n",
        "print('Cadenas de caracteres encontradas:', Q)\n",
        "print('Total de cadenas de caracteres encontrados:', len(Q))"
      ],
      "metadata": {
        "id": "_Krl0RpWEATT",
        "colab": {
          "base_uri": "https://localhost:8080/"
        },
        "outputId": "318211bf-9b5a-47b7-f6e3-3fe7482fd0f4"
      },
      "execution_count": null,
      "outputs": [
        {
          "output_type": "stream",
          "name": "stdout",
          "text": [
            "Cadenas de caracteres encontradas: ['logrado!!', 'BRAVO!!!!!!!!', 'decepcionado!!', 'gente!!!', 'pena!!', 'eso!!', 'absoluto!!', 'JAJAJA!!', 'Paja!!!', 'GUAU!!', 'ENCANTÓ!!!', 'DISTANCIA!!!', 'ésto!!', 'deseas!!!', 'historia!!!!!', 'TERRIBLE!!!', 'peor!!!']\n",
            "Total de cadenas de caracteres encontrados: 17\n"
          ]
        }
      ]
    },
    {
      "cell_type": "code",
      "source": [
        "# Signos \"!\"\" con espacios en blanco antes y después:\n",
        "\n",
        "Q=[]\n",
        "\n",
        "for doc in listdata:\n",
        "  tmp = re.findall(r'\\s!{1,}\\s', doc)    # <<<<<<<<<<<<<<<<<\n",
        "  if tmp:\n",
        "    Q = Q + tmp\n",
        "\n",
        "print('Cadenas de caracteres encontradas:', Q)\n",
        "print('Total de cadenas de caracteres encontrados:', len(Q))"
      ],
      "metadata": {
        "id": "f5B3IhhFan5a",
        "colab": {
          "base_uri": "https://localhost:8080/"
        },
        "outputId": "52aea772-80d4-4208-86cd-7e58825e03d5"
      },
      "execution_count": null,
      "outputs": [
        {
          "output_type": "stream",
          "name": "stdout",
          "text": [
            "Cadenas de caracteres encontradas: [' !!!! ', ' !!!! ', ' !! ', ' ! ', ' !! ', ' !! ', ' !!! ', ' !!! ', ' !! ', ' !!! ', ' !!! ', ' !! ', ' !! ', ' !!! ', ' !! ', ' !!! ', ' !!!! ', ' ! ', ' !!!! ', ' !!!! ', ' !! ', ' ! ', ' !! ', ' !!!! ', ' !! ', ' ! ', ' !!! ', ' !! ', ' !!! ', ' !!!! ', ' !!!! ']\n",
            "Total de cadenas de caracteres encontrados: 31\n"
          ]
        }
      ]
    },
    {
      "cell_type": "code",
      "source": [
        "# palabras con dos o más signos de admiración al principio y al final de una palabra:\n",
        "\n",
        "Q=[]\n",
        "\n",
        "for doc in listdata:\n",
        "  tmp = re.findall(r'¡{2,}.+!{2,}', doc)       # <<<<<<<<<<<<<<<<<\n",
        "  if tmp:\n",
        "    Q = Q + tmp\n",
        "\n",
        "print('Cadenas de caracteres encontradas:', Q)\n",
        "print('Total de cadenas de caracteres encontrados:', len(Q))"
      ],
      "metadata": {
        "id": "5XfUimLzbPQj",
        "colab": {
          "base_uri": "https://localhost:8080/"
        },
        "outputId": "fa312963-f770-4f7f-a1fb-5d6a5c232c28"
      },
      "execution_count": null,
      "outputs": [
        {
          "output_type": "stream",
          "name": "stdout",
          "text": [
            "Cadenas de caracteres encontradas: ['¡¡¡Campamento de Great !!!', '¡¡logrado!!', '¡¡¡¡¡¡¡¡BRAVO!!!!!!!!', '¡¡Yo estaba muy decepcionado!!', '¡¡¡Pero la gente!!!\"El escalofrío\" no es gracioso y ni siquiera es \"interesante\".Es una película de terror extremadamente aburrida sin nada, lo que hace que las películas malas se vean.No hay actuación, sin guión, sin dirección, sin emociones y ni sangre ni sangre.Es una película amateurizada extremadamente inept.Definitivamente es la peor película que había visto (y había visto muchas \"peores películas\", créeme).Te lo adverti !!!', '¡¡Qué pena!!', '¡¡No me esperaba eso!! ¡¡En absoluto!!', '¡¡JAJAJA!!', '¡¡¡Paja!!!', '¡¡GUAU!! ¡Habla de una película que divide la audiencia! Este es un verdadero amor, o Loath it, un poco película. Personalmente realmente lo disfruté. Noté que otras revisiones lo están comparando para lanzar negro, esto es un poco mudo, ya que lo único que tienen en común es la arena. La gente puede ser real estúpida. No, esta película es mucho más en común con la cosa (cómo las personas no se dan cuenta de que son increíbles, incluso tienen la misma música básica), hay muchos toques de carpintero, héroes de cuello azul, humor afilado, paisajes rodantes sin fin llenos de muerte y Cosas no entendidas. Quizás lo que detiene a esta película es un verdadero clásico es que es deferencia a otras obras de carpintero. No menos energía oscura con la que tiene algo en común. Me interesaría saber cuánto realmente costó? $ 8000? ¿Es eso incluso posible? Tal vez se basó en un cortometraje que cuesta $ 8000? Pero me encontré extrañamente movido cuando los diversos tipos espaciales murieron. Están tan subestimados que es como ver a un documental a veces. Habiendo dicho que el guión es un poco clido y solo alrededor de la mitad de ellos puede actuar sin embargo y no estoy seguro de que el tipo grande tocando al capitán sea uno de ellos. ¡¡Pero su arma es increíble !!', '¡¡¡ME ENCANTÓ!!!', '¡¡¡BOMBAS DE DISTANCIA!!!', '¡¡¡¿QUÉ?!!!', \"¡¡Qué es ésto!!es muy malo.La animación se ve tan terrible, parece un juego de tipo PS1.Los actores son horribles, simplemente no pueden actuar para salvar sus vidas.Me senté a través de toda esta película y luego al final me molesté cuando me di cuenta de que había desperdiciado 3 horas de mi vida.No he oído hablar de esta película, ¿alguna vez salió en el cine o se fue directamente a DVD?¿Una niña se disparó?!Lo que pasa con eso, fue solo una película estúpida.Copiaban totalmente 'el día siguiente'.Tiene que ser una de las peores películas que he visto.Definitivamente recomendaría a las personas que no pierdas el tiempo con esto.Podrías pasar tu tiempo mirando 'el día después de mañana', es mucho mejor.Bueno, eso es lo que pienso en la película.En realidad, ¿por qué he perdido el tiempo escribiendo en ello, AH Dam !!\", '¡¡¡¡¡¡¡¡¡¡¡¡¡¡¡¡¡¡¡¡¡¡¡¡¡¡¡¡¡¡¡¡¡¡¡¡Esta película es tan mal! Nunca pensé que esta película podría acercarse alguna vez a mi película menos favorita como lo hizo, pero me reí, porque todas las bromas eran tan cursianas y ridículas.¡¡¡¡¡¡¡¡¡¡¡¡¡¡¡¡¡¡¡¡¡¡¡Muchas cosas en esta película fue divertido, porque era tan estúpido! Esta película no está cerca de Good. Tendría que decir si quieres ver esta película, definitivamente no esperes.Algo grande y si ya lo has visto, confía en mí, ¡Siento tu dolor también !!!!', '¡¡¡Tener cuidado con lo que deseas!!!', '¡¡¡¡¡la mejor pelicula de la historia!!!!!', '¡¡¡TERRIBLE!!!¡¡¡Lo peor!!!']\n",
            "Total de cadenas de caracteres encontrados: 18\n"
          ]
        }
      ]
    },
    {
      "cell_type": "code",
      "source": [
        "\n",
        "re.sub('ñ', 'gn', 'Picasso nació en España.')"
      ],
      "metadata": {
        "colab": {
          "base_uri": "https://localhost:8080/",
          "height": 35
        },
        "id": "OTPn4eFQtYZs",
        "outputId": "27cf8e27-3a24-43c5-f52d-53f195e9ea3d"
      },
      "execution_count": null,
      "outputs": [
        {
          "output_type": "execute_result",
          "data": {
            "text/plain": [
              "'Picasso nació en Espagna.'"
            ],
            "application/vnd.google.colaboratory.intrinsic+json": {
              "type": "string"
            }
          },
          "metadata": {},
          "execution_count": 33
        }
      ]
    },
    {
      "cell_type": "code",
      "source": [
        "\n",
        "re.sub('o+', 'o', 'Hoooola.')"
      ],
      "metadata": {
        "colab": {
          "base_uri": "https://localhost:8080/",
          "height": 35
        },
        "id": "RZqcu96v-qMw",
        "outputId": "77fa6d45-2608-4229-a33a-b32fecf880e0"
      },
      "execution_count": null,
      "outputs": [
        {
          "output_type": "execute_result",
          "data": {
            "text/plain": [
              "'Hola.'"
            ],
            "application/vnd.google.colaboratory.intrinsic+json": {
              "type": "string"
            }
          },
          "metadata": {},
          "execution_count": 34
        }
      ]
    }
  ]
}